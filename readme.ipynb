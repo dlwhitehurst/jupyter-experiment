{
 "cells": [
  {
   "cell_type": "markdown",
   "metadata": {},
   "source": [
    "# README"
   ]
  },
  {
   "cell_type": "markdown",
   "metadata": {},
   "source": [
    "This Jupyter notebook is a Bash notebook. Jupyter notebooks run what's called a kernel to provide command processing. Notice in the upper right corner of this environment the Bash indicator with a little empty circle. This tells us that the kernel is Bash and it's currently not processing any commands. I first had to upgrade Python on this Macbook using Homebrew because pip was not configured correctly. Jupyter begins with a Python 3 environment, installed by Conda, along with the iPython and Notebook modules. \n",
    "\n",
    "`$ brew upgrade python`\n",
    "\n",
    "I installed Minicondaafter downloading it here:\n",
    "\n",
    "https://docs.conda.io/en/latest/miniconda.html\n",
    "\n",
    "Next create a Python environment\n",
    "\n",
    "`conda create -n py3k python=3 ipython notebook`\n",
    "\n",
    "`source activate py3k`\n",
    "\n",
    "This creates an IPython and Jupyter environment. Notice the py3k prepended on the terminal prompt. Next, install a Bash kernel like this:\n",
    "\n",
    "`pip install bash_kernel ; python -m bash_kernel.install`\n",
    "\n",
    "You can now change directory `cd` to anywhere you currently have Jupyter notebooks or now create notebooks in your current directory. Start the Jupyter notebook service with:\n",
    "\n",
    "`jupyter notebook`\n",
    "\n",
    "``` bash\n",
    "(py3k) [~/Development/Python/bash-notebook]$ jupyter notebook\n",
    "[I 18:56:13.490 NotebookApp] Serving notebooks from local directory: /Users/ciwise/Development/Python/bash-notebook\n",
    "[I 18:56:13.490 NotebookApp] The Jupyter Notebook is running at:\n",
    "[I 18:56:13.490 NotebookApp] http://localhost:8888/?token=f63aebbd29aae2053dfe30a3a0c8c8f97eaeb98ebde8f23d\n",
    "[I 18:56:13.490 NotebookApp]  or http://127.0.0.1:8888/?token=f63aebbd29aae2053dfe30a3a0c8c8f97eaeb98ebde8f23d\n",
    "[I 18:56:13.490 NotebookApp] Use Control-C to stop this server and shut down all kernels (twice to skip confirmation).\n",
    "[C 18:56:13.520 NotebookApp]\n",
    "\n",
    "    To access the notebook, open this file in a browser:\n",
    "        file:///Users/ciwise/Library/Jupyter/runtime/nbserver-84311-open.html\n",
    "    Or copy and paste one of these URLs:\n",
    "        http://localhost:8888/?token=f63aebbd29aae2053dfe30a3a0c8c8f97eaeb98ebde8f23d\n",
    "     or http://127.0.0.1:8888/?token=f63aebbd29aae2053dfe30a3a0c8c8f97eaeb98ebde8f23d\n",
    "```\n"
   ]
  },
  {
   "cell_type": "markdown",
   "metadata": {},
   "source": [
    "Open a browser and navigate to `http://localhost:8888`. Copy the token value in the service output and enter that into the password textbox. Your in!"
   ]
  },
  {
   "cell_type": "code",
   "execution_count": 2,
   "metadata": {},
   "outputs": [
    {
     "name": "stdout",
     "output_type": "stream",
     "text": [
      "##\n",
      "# Host Database\n",
      "#\n",
      "# localhost is used to configure the loopback interface\n",
      "# when the system is booting.  Do not change this entry.\n",
      "##\n",
      "127.0.0.1\tlocalhost\n",
      "255.255.255.255\tbroadcasthost\n",
      "::1             localhost\n",
      "# Added by Docker Desktop\n",
      "# To allow the same kube context to work on the host and the container:\n",
      "127.0.0.1 kubernetes.docker.internal\n",
      "# End of section\n"
     ]
    }
   ],
   "source": [
    "cat /etc/hosts"
   ]
  },
  {
   "cell_type": "code",
   "execution_count": null,
   "metadata": {},
   "outputs": [],
   "source": []
  }
 ],
 "metadata": {
  "kernelspec": {
   "display_name": "Bash",
   "language": "bash",
   "name": "bash"
  },
  "language_info": {
   "codemirror_mode": "shell",
   "file_extension": ".sh",
   "mimetype": "text/x-sh",
   "name": "bash"
  }
 },
 "nbformat": 4,
 "nbformat_minor": 4
}
