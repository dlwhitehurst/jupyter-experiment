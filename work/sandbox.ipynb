{
 "cells": [
  {
   "cell_type": "code",
   "execution_count": 1,
   "metadata": {},
   "outputs": [],
   "source": [
    "argcheck() {\n",
    "if [ ! -z \"$1\" ]\n",
    "then\n",
    "  echo \"Argument #1 = $1\"\n",
    "fi\n",
    "if [ ! -z \"$2\" ]\n",
    "then\n",
    "  echo \"Argument #2 = $2\"\n",
    "  echo \"At least 2 arguments passed to script.\"\n",
    "else\n",
    "  echo \"Fewer than 2 arguments passed to script.\"\n",
    "fi\n",
    "}"
   ]
  },
  {
   "cell_type": "markdown",
   "metadata": {},
   "source": [
    "```\n",
    "- $#    Stores the number of command-line arguments that were passed to the shell program.\n",
    "- $?    Stores the exit value of the last command that was executed.\n",
    "- $0    Stores the first word of the entered command (the name of the shell program).\n",
    "- $*    Stores all the arguments that were entered on the command line ($1 $2 ...).\n",
    "- \"$@\"  Stores all the arguments that were entered on the command line, individually quoted (\"$1\" \"$2\" ...).\n",
    "```"
   ]
  },
  {
   "cell_type": "code",
   "execution_count": 2,
   "metadata": {},
   "outputs": [
    {
     "name": "stdout",
     "output_type": "stream",
     "text": [
      "Argument #1 = -a\n",
      "Argument #2 = -b\n",
      "At least 2 arguments passed to script.\n"
     ]
    }
   ],
   "source": [
    "(argcheck -a -b)"
   ]
  },
  {
   "cell_type": "code",
   "execution_count": 23,
   "metadata": {},
   "outputs": [],
   "source": [
    "find_project_files() {\n",
    "      echo pom.xml\n",
    "      echo README*.md\n",
    "      echo test.txt\n",
    "      echo .gitignore\n",
    "      local dirs=(src/main)\n",
    "      local dirs2=(src/test)\n",
    "      #echo ${dirs[@]}\n",
    "\n",
    "      for dir in \"${dirs[@]}\"; do\n",
    "          if [[ -d ${dir} ]]; then\n",
    "              find ${dir} -name 'README*.md'\n",
    "              find ${dir} -name '*.xml'\n",
    "              find ${dir} -name '*.wsdl'\n",
    "              find ${dir} -name '*.properties'\n",
    "              find ${dir} -name '*.yml'\n",
    "              find ${dir} -name '*.yaml'\n",
    "              find ${dir} -name '*.dwl'\n",
    "              find ${dir} -name '*.txt'\n",
    "              find ${dir} -name '*.java'\n",
    "              find ${dir} -name '*.json'\n",
    "              find ${dir} -name '*.raml'\n",
    "          fi\n",
    "      done\n",
    "      for dir in \"${dirs2[@]}\"; do\n",
    "          if [[ -d ${dir} ]]; then\n",
    "              find ${dir} -name 'README*.md'\n",
    "              find ${dir} -name '*.xml'\n",
    "              find ${dir} -name '*.wsdl'\n",
    "              find ${dir} -name '*.properties'\n",
    "              find ${dir} -name '*.yml'\n",
    "              find ${dir} -name '*.yaml'\n",
    "              find ${dir} -name '*.dwl'\n",
    "              find ${dir} -name '*.txt'\n",
    "              find ${dir} -name '*.java'\n",
    "              find ${dir} -name '*.json'\n",
    "              find ${dir} -name '*.raml'\n",
    "          fi\n",
    "      done\n",
    "  }"
   ]
  },
  {
   "cell_type": "code",
   "execution_count": 24,
   "metadata": {},
   "outputs": [],
   "source": [
    "afterargs() {\n",
    "if [[ $# > 0 ]]; then\n",
    "        FILESET=(\"$@\")                     # as specified on command line\n",
    "    else\n",
    "        FILESET=(\"$(find_project_files)\")  # all standard project files\n",
    "    fi\n",
    "\n",
    "    for filepath in ${FILESET[@]}; do\n",
    "         processfile ${filepath}\n",
    "    done\n",
    "}"
   ]
  },
  {
   "cell_type": "code",
   "execution_count": 25,
   "metadata": {},
   "outputs": [],
   "source": [
    "trailing_whitespace() {\n",
    "    for file in \"$@\"; do\n",
    "        sed -i '' 's/ *$//' ${file};\n",
    "    done\n",
    "}"
   ]
  },
  {
   "cell_type": "code",
   "execution_count": 26,
   "metadata": {},
   "outputs": [],
   "source": [
    "linefeed_file_ends() {\n",
    "    for file in \"$@\"; do\n",
    "        sed -i '' -e '$a\\' ${file};\n",
    "    done\n",
    "}"
   ]
  },
  {
   "cell_type": "code",
   "execution_count": 27,
   "metadata": {},
   "outputs": [],
   "source": [
    "remove_docids() {\n",
    "    for file in \"$@\"; do\n",
    "        sed -i '' -e 's/ doc:id=\"[^\"]*\"//' ${file};\n",
    "    done\n",
    "}"
   ]
  },
  {
   "cell_type": "code",
   "execution_count": 28,
   "metadata": {},
   "outputs": [],
   "source": [
    "runall() {\n",
    "    trailing_whitespace afterargs \"$@\"\n",
    "    linefeed_file_ends afterargs \"$@\"\n",
    "    remove_docids afterargs \"$@\"\n",
    "}"
   ]
  },
  {
   "cell_type": "code",
   "execution_count": 29,
   "metadata": {},
   "outputs": [],
   "source": [
    "processfile() {\n",
    "   for file in \"$@\"; do\n",
    "         echo ${file};\n",
    "      done \n",
    "}"
   ]
  },
  {
   "cell_type": "code",
   "execution_count": 37,
   "metadata": {},
   "outputs": [],
   "source": [
    "runlogic() {\n",
    "    if [[ ! -z \"$1\" ]]; then\n",
    "        if [[ $1 == \"-d\" ]]; then \n",
    "            remove_docids $( afterargs \"${@:2}\" )\n",
    "        elif [[ $1 == \"-l\" ]]; then\n",
    "          linefeed_file_ends $( afterargs \"${@:2}\" )\n",
    "        elif [[ $1 == \"-w\" ]]; then\n",
    "          trailing_whitespace $( afterargs \"${@:2}\" )\n",
    "        else\n",
    "          if [[ $1 == \"-\"* ]]; then\n",
    "             echo \"unimplemented arg, use dollar 2 and on ...\";\n",
    "             runall \"${@:2}\"\n",
    "          else\n",
    "             echo \"use dollar 1 and on ...\";\n",
    "             runall \"$@\"\n",
    "          fi\n",
    "        fi\n",
    "    else\n",
    "        echo \"no args\"\n",
    "        #runall \"$@\";\n",
    "    fi \n",
    "}    "
   ]
  },
  {
   "cell_type": "code",
   "execution_count": 38,
   "metadata": {},
   "outputs": [],
   "source": [
    "echo 'hello hello doc:id=\"123456789\" hello' > test.txt"
   ]
  },
  {
   "cell_type": "code",
   "execution_count": 39,
   "metadata": {},
   "outputs": [
    {
     "name": "stdout",
     "output_type": "stream",
     "text": [
      "sed: pom.xml: No such file or directory\n",
      "sed: README*.md: No such file or directory\n",
      "sed: .gitignore: No such file or directory\n"
     ]
    },
    {
     "ename": "",
     "evalue": "1",
     "output_type": "error",
     "traceback": []
    }
   ],
   "source": [
    "runlogic -d"
   ]
  },
  {
   "cell_type": "code",
   "execution_count": 40,
   "metadata": {},
   "outputs": [
    {
     "name": "stdout",
     "output_type": "stream",
     "text": [
      "hello hello hello\n"
     ]
    }
   ],
   "source": [
    "cat test.txt"
   ]
  },
  {
   "cell_type": "code",
   "execution_count": null,
   "metadata": {},
   "outputs": [],
   "source": []
  }
 ],
 "metadata": {
  "kernelspec": {
   "display_name": "Bash",
   "language": "bash",
   "name": "bash"
  },
  "language_info": {
   "codemirror_mode": "shell",
   "file_extension": ".sh",
   "mimetype": "text/x-sh",
   "name": "bash"
  }
 },
 "nbformat": 4,
 "nbformat_minor": 4
}
