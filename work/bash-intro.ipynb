{
 "cells": [
  {
   "cell_type": "markdown",
   "metadata": {},
   "source": [
    "# Intro to Bash"
   ]
  },
  {
   "cell_type": "markdown",
   "metadata": {},
   "source": [
    "If you are seeing this markup here in the Jupyter environment, you now realize that this file is a Jupyter interactive\n",
    "notebook. The Jupyter Bash notebook allows the notebook owner to learn Bash shell programming through experimentation\n",
    "and documentation of your experiments."
   ]
  },
  {
   "cell_type": "markdown",
   "metadata": {},
   "source": [
    "Simple Bash commands are called by name and then pressing return. Try a simple command now."
   ]
  },
  {
   "cell_type": "code",
   "execution_count": 1,
   "metadata": {},
   "outputs": [
    {
     "name": "stdout",
     "output_type": "stream",
     "text": [
      "Darwin\n"
     ]
    }
   ],
   "source": [
    "uname"
   ]
  },
  {
   "cell_type": "markdown",
   "metadata": {},
   "source": [
    "The cell just above this markdown can run this one simple command. To find out more about the .command, you can visit the man (or manual) page for the command."
   ]
  },
  {
   "cell_type": "code",
   "execution_count": 2,
   "metadata": {},
   "outputs": [
    {
     "name": "stdout",
     "output_type": "stream",
     "text": [
      "\n",
      "UNAME(1)                  BSD General Commands Manual                 UNAME(1)\n",
      "\n",
      "NAME\n",
      "     uname -- Print operating system name\n",
      "\n",
      "SYNOPSIS\n",
      "     uname [-amnprsv]\n",
      "\n",
      "DESCRIPTION\n",
      "     The uname utility writes symbols representing one or more system charac-\n",
      "     teristics to the standard output.\n",
      "\n",
      "     The following options are available:\n",
      "\n",
      "     -a      Behave as though all of the options -mnrsv were specified.\n",
      "\n",
      "     -m      print the machine hardware name.\n",
      "\n",
      "     -n      print the nodename (the nodename may be a name that the system is\n",
      "             known by to a communications network).\n",
      "\n",
      "     -p      print the machine processor architecture name.\n",
      "\n",
      "     -r      print the operating system release.\n",
      "\n",
      "     -s      print the operating system name.\n",
      "\n",
      "     -v      print the operating system version.\n",
      "\n",
      "     If no options are specified, uname prints the operating system name as if\n",
      "     the -s option had been specified.\n",
      "\n",
      "SEE ALSO\n",
      "     hostname(1), machine(1), sw_vers(1), uname(3)\n",
      "\n",
      "STANDARDS\n",
      "     The uname utility conforms to IEEE Std 1003.2-1992 (``POSIX.2'').  The -p\n",
      "     option is an extension to the standard.\n",
      "\n",
      "BSD                            November 9, 1998                            BSD\n"
     ]
    }
   ],
   "source": [
    "man uname"
   ]
  },
  {
   "cell_type": "markdown",
   "metadata": {},
   "source": [
    "Let's try an option now. An option can begin just after a single whitespace character, a dash, andh then a single character and/or in some cases, two dashes and a word that describes the option beyond the single character."
   ]
  },
  {
   "cell_type": "code",
   "execution_count": 3,
   "metadata": {},
   "outputs": [
    {
     "name": "stdout",
     "output_type": "stream",
     "text": [
      "Darwin ciwise 18.7.0 Darwin Kernel Version 18.7.0: Mon Feb 10 21:08:45 PST 2020; root:xnu-4903.278.28~1/RELEASE_X86_64 x86_64\n"
     ]
    }
   ],
   "source": [
    "uname -a"
   ]
  },
  {
   "cell_type": "code",
   "execution_count": null,
   "metadata": {},
   "outputs": [],
   "source": []
  }
 ],
 "metadata": {
  "kernelspec": {
   "display_name": "Bash",
   "language": "bash",
   "name": "bash"
  },
  "language_info": {
   "codemirror_mode": "shell",
   "file_extension": ".sh",
   "mimetype": "text/x-sh",
   "name": "bash"
  }
 },
 "nbformat": 4,
 "nbformat_minor": 4
}
