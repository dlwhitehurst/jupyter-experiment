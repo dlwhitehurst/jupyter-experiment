{
 "cells": [
  {
   "cell_type": "markdown",
   "metadata": {},
   "source": [
    "# Sanitize"
   ]
  },
  {
   "cell_type": "code",
   "execution_count": 12,
   "metadata": {},
   "outputs": [
    {
     "name": "stdout",
     "output_type": "stream",
     "text": [
      "grep: mule-artifact.json: No such file or directory\n",
      "none\n",
      "-- Contains hard tabs ----------\n",
      "./advana-sapi/src/main/resources/log4j2.xml\n",
      "./advana-sapi/src/main/mule/advana-sapi.xml\n",
      "-- Contains hard tabs WITHIN the indentation area ----------\n",
      "./advana-sapi/src/main/resources/log4j2.xml\n",
      "./advana-sapi/src/main/mule/advana-sapi.xml\n",
      "-- Contains hard tabs BEYOND the indentation area ----------\n",
      "none\n",
      "-- Contains whitespace at end-of-line ----------\n",
      "./advana-pull-xapi/src/main/mule/api.xml\n",
      "./sanitize.sh\n",
      "./cdx-mule-domain/README.md\n",
      "./cdx-mule-domain/src/main/mule/mule-domain-config.xml\n",
      "./advana-sapi/src/test/resources/log4j2-test.xml\n",
      "./advana-sapi/src/main/resources/log4j2.xml\n",
      "./advana-sapi/src/main/resources/api/types/audit.raml\n",
      "-- end-of-file is not a LF ----------\n",
      "./advana-push-xapi/README.md\n",
      "./advana-sapi/.gitignore\n",
      "./advana-sapi/src/test/resources/log4j2-test.xml\n",
      "-- Contains doc:id ----------\n",
      "-- Mule EE usage ----------\n",
      "-- Unused xml namespaces ----------\n"
     ]
    }
   ],
   "source": [
    "lint.sh"
   ]
  },
  {
   "cell_type": "code",
   "execution_count": 13,
   "metadata": {},
   "outputs": [
    {
     "name": "stdout",
     "output_type": "stream",
     "text": [
      "./sanitize.sh: line 48: h: command not found\n",
      "This script is currently being used with Mac OS-X\n",
      "cat.txt\n",
      "dog.txt\n",
      "sed: dog.txt: No such file or directory\n",
      "sed: dog.txt: No such file or directory\n",
      "pom.xml\n",
      "sed: pom.xml: No such file or directory\n",
      "sed: pom.xml: No such file or directory\n",
      "README*.md\n",
      "sed: README*.md: No such file or directory\n",
      "sed: README*.md: No such file or directory\n",
      ".gitignore\n",
      "sed: .gitignore: No such file or directory\n",
      "sed: .gitignore: No such file or directory\n"
     ]
    },
    {
     "ename": "",
     "evalue": "1",
     "output_type": "error",
     "traceback": []
    }
   ],
   "source": [
    "./sanitize.sh"
   ]
  },
  {
   "cell_type": "code",
   "execution_count": 14,
   "metadata": {},
   "outputs": [
    {
     "name": "stdout",
     "output_type": "stream",
     "text": [
      "grep: mule-artifact.json: No such file or directory\n",
      "none\n",
      "-- Contains hard tabs ----------\n",
      "./advana-sapi/src/main/resources/log4j2.xml\n",
      "./advana-sapi/src/main/mule/advana-sapi.xml\n",
      "-- Contains hard tabs WITHIN the indentation area ----------\n",
      "./advana-sapi/src/main/resources/log4j2.xml\n",
      "./advana-sapi/src/main/mule/advana-sapi.xml\n",
      "-- Contains hard tabs BEYOND the indentation area ----------\n",
      "none\n",
      "-- Contains whitespace at end-of-line ----------\n",
      "./advana-pull-xapi/src/main/mule/api.xml\n",
      "./sanitize.sh\n",
      "./cdx-mule-domain/README.md\n",
      "./cdx-mule-domain/src/main/mule/mule-domain-config.xml\n",
      "./advana-sapi/src/test/resources/log4j2-test.xml\n",
      "./advana-sapi/src/main/resources/log4j2.xml\n",
      "./advana-sapi/src/main/resources/api/types/audit.raml\n",
      "-- end-of-file is not a LF ----------\n",
      "./advana-push-xapi/README.md\n",
      "./advana-sapi/.gitignore\n",
      "./advana-sapi/src/test/resources/log4j2-test.xml\n",
      "-- Contains doc:id ----------\n",
      "-- Mule EE usage ----------\n",
      "-- Unused xml namespaces ----------\n"
     ]
    }
   ],
   "source": [
    "lint.sh"
   ]
  },
  {
   "cell_type": "code",
   "execution_count": null,
   "metadata": {},
   "outputs": [],
   "source": []
  }
 ],
 "metadata": {
  "kernelspec": {
   "display_name": "Bash",
   "language": "bash",
   "name": "bash"
  },
  "language_info": {
   "codemirror_mode": "shell",
   "file_extension": ".sh",
   "mimetype": "text/x-sh",
   "name": "bash"
  }
 },
 "nbformat": 4,
 "nbformat_minor": 4
}
