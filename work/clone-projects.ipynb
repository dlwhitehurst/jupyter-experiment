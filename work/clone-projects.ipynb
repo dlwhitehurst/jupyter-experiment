{
 "cells": [
  {
   "cell_type": "markdown",
   "metadata": {},
   "source": [
    "# Clone Advana Project Set"
   ]
  },
  {
   "cell_type": "code",
   "execution_count": 1,
   "metadata": {},
   "outputs": [
    {
     "name": "stdout",
     "output_type": "stream",
     "text": [
      "Cloning into 'advana-sapi'...\n",
      "remote: Counting objects: 555, done.\u001b[K\n",
      "remote: Compressing objects: 100% (484/484), done.\u001b[K\n",
      "remote: Total 555 (delta 245), reused 99 (delta 49)\u001b[K\n",
      "Receiving objects: 100% (555/555), 75.65 KiB | 759.00 KiB/s, done.\n",
      "Resolving deltas: 100% (245/245), done.\n"
     ]
    }
   ],
   "source": [
    "git clone git@bitbucket.org:navyfmp/advana-sapi.git"
   ]
  },
  {
   "cell_type": "code",
   "execution_count": 2,
   "metadata": {},
   "outputs": [
    {
     "name": "stdout",
     "output_type": "stream",
     "text": [
      "Cloning into 'advana-pull-xapi'...\n",
      "remote: Counting objects: 177, done.\u001b[K\n",
      "remote: Compressing objects: 100% (164/164), done.\u001b[K\n",
      "remote: Total 177 (delta 63), reused 0 (delta 0)\u001b[K\n",
      "Receiving objects: 100% (177/177), 29.99 KiB | 602.00 KiB/s, done.\n",
      "Resolving deltas: 100% (63/63), done.\n"
     ]
    }
   ],
   "source": [
    "git clone git@bitbucket.org:navyfmp/advana-pull-xapi.git"
   ]
  },
  {
   "cell_type": "code",
   "execution_count": 3,
   "metadata": {},
   "outputs": [
    {
     "name": "stdout",
     "output_type": "stream",
     "text": [
      "Cloning into 'advana-push-xapi'...\n",
      "remote: Counting objects: 318, done.\u001b[K\n",
      "remote: Compressing objects: 100% (298/298), done.\u001b[K\n",
      "remote: Total 318 (delta 125), reused 0 (delta 0)\u001b[K\n",
      "Receiving objects: 100% (318/318), 45.16 KiB | 700.00 KiB/s, done.\n",
      "Resolving deltas: 100% (125/125), done.\n"
     ]
    }
   ],
   "source": [
    "git clone git@bitbucket.org:navyfmp/advana-push-xapi.git"
   ]
  },
  {
   "cell_type": "code",
   "execution_count": 4,
   "metadata": {},
   "outputs": [
    {
     "name": "stdout",
     "output_type": "stream",
     "text": [
      "Cloning into 'cdx-mule-domain'...\n",
      "remote: Counting objects: 280, done.\u001b[K\n",
      "remote: Compressing objects: 100% (267/267), done.\u001b[K\n",
      "remote: Total 280 (delta 158), reused 0 (delta 0)\u001b[K\n",
      "Receiving objects: 100% (280/280), 49.26 KiB | 840.00 KiB/s, done.\n",
      "Resolving deltas: 100% (158/158), done.\n",
      "fatal: Not a git repository (or any of the parent directories): .git\n"
     ]
    },
    {
     "ename": "",
     "evalue": "128",
     "output_type": "error",
     "traceback": []
    }
   ],
   "source": [
    "git clone git@bitbucket.org:navyfmp/cdx-mule-domain.git"
   ]
  },
  {
   "cell_type": "code",
   "execution_count": null,
   "metadata": {},
   "outputs": [],
   "source": []
  }
 ],
 "metadata": {
  "kernelspec": {
   "display_name": "Bash",
   "language": "bash",
   "name": "bash"
  },
  "language_info": {
   "codemirror_mode": "shell",
   "file_extension": ".sh",
   "mimetype": "text/x-sh",
   "name": "bash"
  }
 },
 "nbformat": 4,
 "nbformat_minor": 4
}
